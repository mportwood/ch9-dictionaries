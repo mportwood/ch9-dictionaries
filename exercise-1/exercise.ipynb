{
 "cells": [
  {
   "cell_type": "markdown",
   "metadata": {},
   "source": [
    "# Exercise 1\n",
    "Add the specified code for each code cell, running the cells _in order_."
   ]
  },
  {
   "cell_type": "markdown",
   "metadata": {},
   "source": [
    "Create a dictionary **`rectangle`** that has a key `'width'` with a value of `100`, a key `'height'` with a value of `50`, a key `'x'` with a value of `25`, and a key `'y'` with a value of `40`."
   ]
  },
  {
   "cell_type": "code",
   "execution_count": null,
   "metadata": {},
   "outputs": [],
   "source": [
    "rectangle = {'width': 100, 'height': 50, 'x': 25, 'y': 40}"
   ]
  },
  {
   "cell_type": "markdown",
   "metadata": {},
   "source": [
    "Print the width of the rectangle (from the dictionary)"
   ]
  },
  {
   "cell_type": "code",
   "execution_count": null,
   "metadata": {},
   "outputs": [],
   "source": [
    "print(rectangle['width'])"
   ]
  },
  {
   "cell_type": "markdown",
   "metadata": {},
   "source": [
    "Print the x- and y- coordinates of the rectangle (its location). Your output should have the format `\"X, Y\"`."
   ]
  },
  {
   "cell_type": "code",
   "execution_count": null,
   "metadata": {},
   "outputs": [],
   "source": [
    "print(rectangle['x'], ', ', rectangle['y'], sep = '')"
   ]
  },
  {
   "cell_type": "markdown",
   "metadata": {},
   "source": [
    "Print the rectangle's area (based on the dictionary values)."
   ]
  },
  {
   "cell_type": "code",
   "execution_count": null,
   "metadata": {},
   "outputs": [],
   "source": [
    "# area = length * width\n",
    "area = rectangle['width'] * rectangle['height']\n",
    "print(area)"
   ]
  },
  {
   "cell_type": "markdown",
   "metadata": {},
   "source": [
    "\"Move\" the rectangle by increasing its x-coordinate by `20` and _decreasing_ its y-coordinate by `10`. Print out the rectangle to see its new location."
   ]
  },
  {
   "cell_type": "code",
   "execution_count": null,
   "metadata": {},
   "outputs": [],
   "source": [
    "rectangle['x'] = rectangle['x'] + 20\n",
    "rectangle['y'] = rectangle['y'] - 10\n",
    "print(rectangle)"
   ]
  },
  {
   "cell_type": "markdown",
   "metadata": {},
   "source": [
    "Add a new key `'color'` to the rectangle with a value equal to your favorite color (as a string is fine). Output the rectangle to confirm your change."
   ]
  },
  {
   "cell_type": "code",
   "execution_count": null,
   "metadata": {},
   "outputs": [],
   "source": [
    "rectangle['color'] = 'blue'\n",
    "print(rectangle)"
   ]
  },
  {
   "cell_type": "markdown",
   "metadata": {},
   "source": [
    "Create a dictionary **`circle`** that has a `radius` of 35 and a `center` that is a **tuple** representing an x-coordinate of `59` and a y-coordinate of `80`. Output the circle."
   ]
  },
  {
   "cell_type": "code",
   "execution_count": null,
   "metadata": {},
   "outputs": [],
   "source": [
    "circle = {'radius': 35, 'center': (59, 80)}\n",
    "circle"
   ]
  },
  {
   "cell_type": "markdown",
   "metadata": {},
   "source": [
    "What is the distance between the circle's center and the rectangle's location? _Hint:_ use the [distance formula](http://www.mathwarehouse.com/algebra/distance_formula/index.php); the [math.hypot()](https://docs.python.org/3/library/math.html#math.hypot) can help."
   ]
  },
  {
   "cell_type": "code",
   "execution_count": null,
   "metadata": {},
   "outputs": [],
   "source": [
    "import math\n",
    "\n",
    "##Find distance b/w x's and y's, then plus into math.hypot() function\n",
    "x_dist = circle['center'][0] - rectangle['x']\n",
    "y_dist = circle['center'][1] - rectangle['y']\n",
    "math.hypot(x_dist, y_dist)\n"
   ]
  },
  {
   "cell_type": "markdown",
   "metadata": {},
   "source": [
    "Define a function **`get_area()`** that takes in a dictionary representing a shape (such as _either_ a circle or a rectangle like you defined above) and returns the _area_ of that shape. You will need to determine whether the shape is a rectangle or a circle (e.g., whether it has a radius or a width/height). Calculate rectange area as $width*height$ and circle area as $\\pi * radius^2$."
   ]
  },
  {
   "cell_type": "code",
   "execution_count": null,
   "metadata": {},
   "outputs": [],
   "source": [
    "#import math\n",
    "def get_area(shape): \n",
    "    \"\"\"A function that takes as an input a dictionary representing a shape and returns the area for the shape\"\"\"\n",
    "    ##determine if something is a circle, then calc area    \n",
    "    radius = shape.get('radius')\n",
    "    if radius != None: #If the shape has a radius (i.e. is a circle)\n",
    "        area = math.pi * (radius ** 2)\n",
    "    else: \n",
    "        area = rectangle['width'] * rectangle['height']\n",
    "    return area\n",
    "\n",
    "shape = circle\n",
    "print(get_area(shape))  \n",
    "    "
   ]
  },
  {
   "cell_type": "markdown",
   "metadata": {},
   "source": [
    "Use your `get_area()` function and print the areas of both your `rectangle` and your `circle`."
   ]
  },
  {
   "cell_type": "code",
   "execution_count": null,
   "metadata": {},
   "outputs": [],
   "source": [
    "shape = circle\n",
    "print(get_area(shape))  \n",
    "shape = rectangle\n",
    "print(get_area(shape))  "
   ]
  },
  {
   "cell_type": "markdown",
   "metadata": {},
   "source": [
    "The fact that this function works on both \"types\" of shapes is abstraction at work!"
   ]
  }
 ],
 "metadata": {
  "kernelspec": {
   "display_name": "Python 3",
   "language": "python",
   "name": "python3"
  },
  "language_info": {
   "codemirror_mode": {
    "name": "ipython",
    "version": 3
   },
   "file_extension": ".py",
   "mimetype": "text/x-python",
   "name": "python",
   "nbconvert_exporter": "python",
   "pygments_lexer": "ipython3",
   "version": "3.7.0"
  },
  "toc": {
   "colors": {
    "hover_highlight": "#DAA520",
    "running_highlight": "#FF0000",
    "selected_highlight": "#FFD700"
   },
   "moveMenuLeft": true,
   "nav_menu": {
    "height": "30px",
    "width": "252px"
   },
   "navigate_menu": true,
   "number_sections": true,
   "sideBar": true,
   "threshold": 4,
   "toc_cell": false,
   "toc_section_display": "block",
   "toc_window_display": false,
   "widenNotebook": false
  }
 },
 "nbformat": 4,
 "nbformat_minor": 2
}
