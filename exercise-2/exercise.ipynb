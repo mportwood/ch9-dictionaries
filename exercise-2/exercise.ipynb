{
 "cells": [
  {
   "cell_type": "markdown",
   "metadata": {},
   "source": [
    "# Exercise 2\n",
    "Add the specified code for each code cell, running the cells _in order_."
   ]
  },
  {
   "cell_type": "markdown",
   "metadata": {},
   "source": [
    "Open the included **`data/words_small.txt`** file (containing a \"small\" list of English words) and `read()` it into a single string variable **`words_str`**. Then print the first 100 _characters_ of the `words_str` variable (use a slice operator!)"
   ]
  },
  {
   "cell_type": "code",
   "execution_count": 8,
   "metadata": {},
   "outputs": [
    {
     "name": "stdout",
     "output_type": "stream",
     "text": [
      "abbreviate\n",
      "abbreviation\n",
      "abdomen\n",
      "able\n",
      "aboard\n",
      "abroad\n",
      "absent\n",
      "absolute\n",
      "abuse\n",
      "academic\n",
      "academy\n",
      "accelerate\n"
     ]
    }
   ],
   "source": [
    "with open('data/words_small.txt') as file: \n",
    "    words_str = file.read()\n",
    "print(words_str[:100])"
   ]
  },
  {
   "cell_type": "markdown",
   "metadata": {},
   "source": [
    "**Using a loop**, count the number of times the newline character `\\n` appears in the `words_str`. This should tell you the number of words in the file (plus or minus one). You can check your work with the built-in `count()` string method (but use the loop for practice!)"
   ]
  },
  {
   "cell_type": "code",
   "execution_count": 20,
   "metadata": {},
   "outputs": [
    {
     "name": "stdout",
     "output_type": "stream",
     "text": [
      "1520\n",
      "1520\n"
     ]
    }
   ],
   "source": [
    "count = 0\n",
    "for char in words_str: \n",
    "    if char == '\\n': \n",
    "        count += 1\n",
    "print(count)\n",
    "\n",
    "#test using count()\n",
    "print(words_str.count('\\n'))"
   ]
  },
  {
   "cell_type": "markdown",
   "metadata": {},
   "source": [
    "Create a variable **`letter_counts`** that is a dictionary whose keys are characters (letters) and whose values are the number of times that character appears in `words_str`. Print the dictionary after you make it.\n",
    "- To do this, start with an empty dictionary, then loop through the letters one at a time. At each letter, increase the value associated with that letter key by one.\n",
    "- Watch out for if the letter is not in the dictionary yet!\n",
    "- Also _delete_ the entry for the newline `\\n` character"
   ]
  },
  {
   "cell_type": "code",
   "execution_count": 47,
   "metadata": {},
   "outputs": [
    {
     "name": "stdout",
     "output_type": "stream",
     "text": [
      "{'a': 703, 'b': 188, 'r': 642, 'e': 1118, 'v': 85, 'i': 515, 't': 604, 'o': 598, 'n': 550, 'd': 314, 'm': 223, 'l': 457, 's': 504, 'u': 279, 'c': 328, 'y': 189, 'p': 224, 'h': 295, 'f': 155, 'w': 161, 'g': 213, 'k': 126, 'z': 15, 'x': 23, 'j': 16, 'q': 9}\n"
     ]
    }
   ],
   "source": [
    "letter_counts = {}\n",
    "for letter in words_str: \n",
    "    ###get previous count\n",
    "    previous_count = letter_counts.get(letter, 0)\n",
    "    ###incrememtn prev cnt by 1\n",
    "    letter_counts[letter] = previous_count + 1\n",
    "\n",
    "##remove '\\n'    \n",
    "letter_counts.pop('\\n')   \n",
    "print(letter_counts)\n"
   ]
  },
  {
   "cell_type": "markdown",
   "metadata": {},
   "source": [
    "Print out all the count in the `letter_counts` dictionary in the format `\"A appears 703 times\"`, each on a new line, in alphabetical order. _Hint_: iterate through the sorted keys!"
   ]
  },
  {
   "cell_type": "code",
   "execution_count": 50,
   "metadata": {},
   "outputs": [
    {
     "name": "stdout",
     "output_type": "stream",
     "text": [
      "a appears in 703 times\n",
      "b appears in 188 times\n",
      "c appears in 328 times\n",
      "d appears in 314 times\n",
      "e appears in 1118 times\n",
      "f appears in 155 times\n",
      "g appears in 213 times\n",
      "h appears in 295 times\n",
      "i appears in 515 times\n",
      "j appears in 16 times\n",
      "k appears in 126 times\n",
      "l appears in 457 times\n",
      "m appears in 223 times\n",
      "n appears in 550 times\n",
      "o appears in 598 times\n",
      "p appears in 224 times\n",
      "q appears in 9 times\n",
      "r appears in 642 times\n",
      "s appears in 504 times\n",
      "t appears in 604 times\n",
      "u appears in 279 times\n",
      "v appears in 85 times\n",
      "w appears in 161 times\n",
      "x appears in 23 times\n",
      "y appears in 189 times\n",
      "z appears in 15 times\n"
     ]
    }
   ],
   "source": [
    "##Alternative approach\n",
    "# sorted_keys = sorted(letter_counts.keys())\n",
    "# for key in sorted_keys: \n",
    "#     print(key,\"appears in\", letter_counts[key], \"times\")\n",
    "  \n",
    "for key, value in sorted(letter_counts.items()): \n",
    "    print(key,\"appears in\", value, \"times\")"
   ]
  },
  {
   "cell_type": "markdown",
   "metadata": {},
   "source": [
    "Print which letter from the `letter_counts` dictionary has a **value** of `515`. _Hint:_ use a loop to look through all the _items_ until you find the right one, then print that!"
   ]
  },
  {
   "cell_type": "code",
   "execution_count": 52,
   "metadata": {},
   "outputs": [
    {
     "name": "stdout",
     "output_type": "stream",
     "text": [
      "i\n"
     ]
    }
   ],
   "source": [
    "for letter, count in letter_counts.items(): \n",
    "    if count == 515: \n",
    "        print(letter)"
   ]
  },
  {
   "cell_type": "markdown",
   "metadata": {},
   "source": [
    "Create a variable **`count_to_letter_dict`** that is a dictionary whose **keys** are the counts and whose **values** are the letters that have that count. This is a _reverse lookup_ dictionary. Hint: ceate a new dictionary, then loop through items in `letter_counts` and add an item to your new dictionary for each element. You can assume no duplicated counts."
   ]
  },
  {
   "cell_type": "code",
   "execution_count": 89,
   "metadata": {},
   "outputs": [
    {
     "data": {
      "text/plain": [
       "{703: 'a',\n",
       " 188: 'b',\n",
       " 642: 'r',\n",
       " 1118: 'e',\n",
       " 85: 'v',\n",
       " 515: 'i',\n",
       " 604: 't',\n",
       " 598: 'o',\n",
       " 550: 'n',\n",
       " 314: 'd',\n",
       " 223: 'm',\n",
       " 457: 'l',\n",
       " 504: 's',\n",
       " 279: 'u',\n",
       " 328: 'c',\n",
       " 189: 'y',\n",
       " 224: 'p',\n",
       " 295: 'h',\n",
       " 155: 'f',\n",
       " 161: 'w',\n",
       " 213: 'g',\n",
       " 126: 'k',\n",
       " 15: 'z',\n",
       " 23: 'x',\n",
       " 16: 'j',\n",
       " 9: 'q'}"
      ]
     },
     "execution_count": 89,
     "metadata": {},
     "output_type": "execute_result"
    }
   ],
   "source": [
    "count_to_letter_dict = {}\n",
    "for letter, count in letter_counts.items(): \n",
    "    count_to_letter_dict[count] = letter\n",
    "count_to_letter_dict\n",
    "#count_to_letter_dict[642]"
   ]
  },
  {
   "cell_type": "markdown",
   "metadata": {},
   "source": [
    "Print the **10** most common letters and their counts with the format `\"A appears 703 times\"`. _Hint:_ you'll need to sort the keys to `count_to_letter_dict` and take the first 10 of those."
   ]
  },
  {
   "cell_type": "code",
   "execution_count": 95,
   "metadata": {},
   "outputs": [
    {
     "name": "stdout",
     "output_type": "stream",
     "text": [
      "[1118, 703, 642, 604, 598, 550, 515, 504, 457, 328]\n",
      "E appears 1118 times\n",
      "A appears 703 times\n",
      "R appears 642 times\n",
      "T appears 604 times\n",
      "O appears 598 times\n",
      "N appears 550 times\n",
      "I appears 515 times\n",
      "S appears 504 times\n",
      "L appears 457 times\n",
      "C appears 328 times\n"
     ]
    }
   ],
   "source": [
    "sorted_keys = sorted(count_to_letter_dict.keys(), reverse = True)\n",
    "for count in sorted_keys[:10]: \n",
    "    print(count_to_letter_dict[count].upper(), \"appears\", count, \"times\")"
   ]
  },
  {
   "cell_type": "markdown",
   "metadata": {},
   "source": [
    "Bonus: repeat your analysis on the `data/words_huge.txt` file! Are the top letters the same?"
   ]
  }
 ],
 "metadata": {
  "kernelspec": {
   "display_name": "Python 3",
   "language": "python",
   "name": "python3"
  },
  "language_info": {
   "codemirror_mode": {
    "name": "ipython",
    "version": 3
   },
   "file_extension": ".py",
   "mimetype": "text/x-python",
   "name": "python",
   "nbconvert_exporter": "python",
   "pygments_lexer": "ipython3",
   "version": "3.7.0"
  },
  "toc": {
   "colors": {
    "hover_highlight": "#DAA520",
    "running_highlight": "#FF0000",
    "selected_highlight": "#FFD700"
   },
   "moveMenuLeft": true,
   "nav_menu": {
    "height": "30px",
    "width": "252px"
   },
   "navigate_menu": true,
   "number_sections": true,
   "sideBar": true,
   "threshold": 4,
   "toc_cell": false,
   "toc_section_display": "block",
   "toc_window_display": false,
   "widenNotebook": false
  }
 },
 "nbformat": 4,
 "nbformat_minor": 2
}
